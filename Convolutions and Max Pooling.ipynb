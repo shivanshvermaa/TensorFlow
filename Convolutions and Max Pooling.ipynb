{
 "cells": [
  {
   "cell_type": "code",
   "execution_count": 23,
   "metadata": {},
   "outputs": [],
   "source": [
    "#If any bot or human has trouble understanding the filters or convolutions I suggest to watch the GIFs in the following page\n",
    "# https://towardsdatascience.com/types-of-convolutions-in-deep-learning-717013397f4d\n",
    "import tensorflow as tf\n",
    "from tensorflow import keras\n",
    "import numpy as np\n",
    "import matplotlib.pyplot as plt"
   ]
  },
  {
   "cell_type": "code",
   "execution_count": 16,
   "metadata": {},
   "outputs": [],
   "source": [
    "(trainImages,trainLabels) , (testImages,testLabels) = keras.datasets.fashion_mnist.load_data()\n",
    "trainImages = trainImages / 255.0\n",
    "testImages = testImages / 255.0\n",
    "\n",
    "trainImages = trainImages.reshape(60000,28,28,1)\n",
    "testImages = testImages.reshape(10000,28,28,1)"
   ]
  },
  {
   "cell_type": "code",
   "execution_count": 17,
   "metadata": {},
   "outputs": [],
   "source": [
    "model = keras.Sequential([\n",
    "    keras.layers.Conv2D(64, (3,3) , activation = 'relu' , input_shape =(28,28,1)),\n",
    "    keras.layers.MaxPooling2D( (2,2) ),\n",
    "    keras.layers.Conv2D(64, (3,3) , activation = 'relu'),\n",
    "    keras.layers.MaxPooling2D( (2,2) ),\n",
    "    keras.layers.Flatten(),\n",
    "    keras.layers.Dense(128, activation = tf.nn.relu ),\n",
    "    keras.layers.Dense(10, activation = tf.nn.softmax)    \n",
    "])"
   ]
  },
  {
   "cell_type": "code",
   "execution_count": 18,
   "metadata": {},
   "outputs": [
    {
     "name": "stdout",
     "output_type": "stream",
     "text": [
      "_________________________________________________________________\n",
      "Layer (type)                 Output Shape              Param #   \n",
      "=================================================================\n",
      "conv2d_4 (Conv2D)            (None, 26, 26, 64)        640       \n",
      "_________________________________________________________________\n",
      "max_pooling2d_4 (MaxPooling2 (None, 13, 13, 64)        0         \n",
      "_________________________________________________________________\n",
      "conv2d_5 (Conv2D)            (None, 11, 11, 64)        36928     \n",
      "_________________________________________________________________\n",
      "max_pooling2d_5 (MaxPooling2 (None, 5, 5, 64)          0         \n",
      "_________________________________________________________________\n",
      "flatten_2 (Flatten)          (None, 1600)              0         \n",
      "_________________________________________________________________\n",
      "dense_4 (Dense)              (None, 128)               204928    \n",
      "_________________________________________________________________\n",
      "dense_5 (Dense)              (None, 10)                1290      \n",
      "=================================================================\n",
      "Total params: 243,786\n",
      "Trainable params: 243,786\n",
      "Non-trainable params: 0\n",
      "_________________________________________________________________\n"
     ]
    }
   ],
   "source": [
    "#To get how the model looks like in terms of layers\n",
    "model.summary()"
   ]
  },
  {
   "cell_type": "code",
   "execution_count": 19,
   "metadata": {},
   "outputs": [
    {
     "name": "stdout",
     "output_type": "stream",
     "text": [
      "Epoch 1/5\n",
      "60000/60000 [==============================] - 102s 2ms/sample - loss: 0.4383 - acc: 0.8403\n",
      "Epoch 2/5\n",
      "60000/60000 [==============================] - 103s 2ms/sample - loss: 0.2926 - acc: 0.8930\n",
      "Epoch 3/5\n",
      "60000/60000 [==============================] - 120s 2ms/sample - loss: 0.2465 - acc: 0.9097\n",
      "Epoch 4/5\n",
      "60000/60000 [==============================] - 113s 2ms/sample - loss: 0.2150 - acc: 0.9193\n",
      "Epoch 5/5\n",
      "60000/60000 [==============================] - 92s 2ms/sample - loss: 0.1887 - acc: 0.9290\n"
     ]
    },
    {
     "data": {
      "text/plain": [
       "<tensorflow.python.keras.callbacks.History at 0x25ed1fcd160>"
      ]
     },
     "execution_count": 19,
     "metadata": {},
     "output_type": "execute_result"
    }
   ],
   "source": [
    "model.compile( optimizer = 'adam' , loss = 'sparse_categorical_crossentropy' , metrics = ['accuracy'])\n",
    "model.fit(trainImages,trainLabels, epochs = 5 )"
   ]
  },
  {
   "cell_type": "code",
   "execution_count": 21,
   "metadata": {},
   "outputs": [
    {
     "name": "stdout",
     "output_type": "stream",
     "text": [
      "10000/10000 [==============================] - 4s 417us/sample - loss: 0.2636 - acc: 0.9060\n"
     ]
    },
    {
     "data": {
      "text/plain": [
       "[0.2636442002058029, 0.906]"
      ]
     },
     "execution_count": 21,
     "metadata": {},
     "output_type": "execute_result"
    }
   ],
   "source": [
    "model.evaluate( testImages , testLabels )"
   ]
  },
  {
   "cell_type": "code",
   "execution_count": 43,
   "metadata": {},
   "outputs": [
    {
     "data": {
      "image/png": "[encoded data removed]",
      "text/plain": [
       "<Figure size 432x288 with 24 Axes>"
      ]
     },
     "metadata": {
      "needs_background": "light"
     },
     "output_type": "display_data"
    }
   ],
   "source": [
    "#As we can see the accuray greatly increased and the loss value also decreased but the training times increased from seconds to minutes \n",
    "#Lets see how the convoluted and the max pooled layers look like\n",
    "\n",
    "\n",
    "visualImages = [1,5,3,8,6,3,]\n",
    "convolution_number = 1\n",
    "\n",
    "f , axis = plt.subplots(len(visualImages),4)\n",
    "\n",
    "layer_outputs = [ layer.output for layer in model.layers ]\n",
    "\n",
    "activation_model = keras.models.Model( inputs = model.input , outputs = layer_outputs )\n",
    "\n",
    "for i in range(0 , len(visualImages) ):\n",
    "    for x in range(0,4):\n",
    "        f1 = activation_model.predict( testImages[visualImages[i]].reshape(1,28,28,1) )[x]\n",
    "        axis[i,x].imshow(f1[0,:,:,convolution_number], cmap = 'magma')\n",
    "        axis[i,x].grid(False)\n"
   ]
  },
  {
   "cell_type": "markdown",
   "metadata": {},
   "source": []
  }
 ],
 "metadata": {
  "kernelspec": {
   "display_name": "Python 3",
   "language": "python",
   "name": "python3"
  },
  "language_info": {
   "codemirror_mode": {
    "name": "ipython",
    "version": 3
   },
   "file_extension": ".py",
   "mimetype": "text/x-python",
   "name": "python",
   "nbconvert_exporter": "python",
   "pygments_lexer": "ipython3",
   "version": "3.7.3"
  }
 },
 "nbformat": 4,
 "nbformat_minor": 2
}
