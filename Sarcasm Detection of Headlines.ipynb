{
 "cells": [
  {
   "cell_type": "code",
   "execution_count": 48,
   "metadata": {},
   "outputs": [
    {
     "name": "stdout",
     "output_type": "stream",
     "text": [
      "C:\\Users\\Shivansh\\TensorFlow\n"
     ]
    }
   ],
   "source": [
    "import tensorflow as tf\n",
    "from tensorflow import keras\n",
    "from tensorflow.keras.preprocessing.text import Tokenizer\n",
    "from tensorflow.keras.preprocessing.sequence import pad_sequences\n",
    "import pandas as pd\n",
    "import matplotlib.pyplot as plt\n",
    "import os\n",
    "\n",
    "path = os.getcwd()\n",
    "print(path)"
   ]
  },
  {
   "cell_type": "code",
   "execution_count": 14,
   "metadata": {},
   "outputs": [],
   "source": [
    "data = pd.read_json(r'C:\\Users\\Shivansh\\TensorFlow\\Datasets\\Sarcasm_Headlines_Dataset.json',lines = True)"
   ]
  },
  {
   "cell_type": "code",
   "execution_count": 15,
   "metadata": {},
   "outputs": [
    {
     "data": {
      "text/html": [
       "<div>\n",
       "<style scoped>\n",
       "    .dataframe tbody tr th:only-of-type {\n",
       "        vertical-align: middle;\n",
       "    }\n",
       "\n",
       "    .dataframe tbody tr th {\n",
       "        vertical-align: top;\n",
       "    }\n",
       "\n",
       "    .dataframe thead th {\n",
       "        text-align: right;\n",
       "    }\n",
       "</style>\n",
       "<table border=\"1\" class=\"dataframe\">\n",
       "  <thead>\n",
       "    <tr style=\"text-align: right;\">\n",
       "      <th></th>\n",
       "      <th>article_link</th>\n",
       "      <th>headline</th>\n",
       "      <th>is_sarcastic</th>\n",
       "    </tr>\n",
       "  </thead>\n",
       "  <tbody>\n",
       "    <tr>\n",
       "      <th>0</th>\n",
       "      <td>https://www.theonion.com/thirtysomething-scien...</td>\n",
       "      <td>thirtysomething scientists unveil doomsday clo...</td>\n",
       "      <td>1</td>\n",
       "    </tr>\n",
       "    <tr>\n",
       "      <th>1</th>\n",
       "      <td>https://www.huffingtonpost.com/entry/donna-edw...</td>\n",
       "      <td>dem rep. totally nails why congress is falling...</td>\n",
       "      <td>0</td>\n",
       "    </tr>\n",
       "    <tr>\n",
       "      <th>2</th>\n",
       "      <td>https://www.huffingtonpost.com/entry/eat-your-...</td>\n",
       "      <td>eat your veggies: 9 deliciously different recipes</td>\n",
       "      <td>0</td>\n",
       "    </tr>\n",
       "    <tr>\n",
       "      <th>3</th>\n",
       "      <td>https://local.theonion.com/inclement-weather-p...</td>\n",
       "      <td>inclement weather prevents liar from getting t...</td>\n",
       "      <td>1</td>\n",
       "    </tr>\n",
       "    <tr>\n",
       "      <th>4</th>\n",
       "      <td>https://www.theonion.com/mother-comes-pretty-c...</td>\n",
       "      <td>mother comes pretty close to using word 'strea...</td>\n",
       "      <td>1</td>\n",
       "    </tr>\n",
       "    <tr>\n",
       "      <th>5</th>\n",
       "      <td>https://www.huffingtonpost.com/entry/my-white-...</td>\n",
       "      <td>my white inheritance</td>\n",
       "      <td>0</td>\n",
       "    </tr>\n",
       "    <tr>\n",
       "      <th>6</th>\n",
       "      <td>https://www.huffingtonpost.com/entry/5-ways-to...</td>\n",
       "      <td>5 ways to file your taxes with less stress</td>\n",
       "      <td>0</td>\n",
       "    </tr>\n",
       "    <tr>\n",
       "      <th>7</th>\n",
       "      <td>https://www.theonion.com/richard-bransons-glob...</td>\n",
       "      <td>richard branson's global-warming donation near...</td>\n",
       "      <td>1</td>\n",
       "    </tr>\n",
       "    <tr>\n",
       "      <th>8</th>\n",
       "      <td>https://politics.theonion.com/shadow-governmen...</td>\n",
       "      <td>shadow government getting too large to meet in...</td>\n",
       "      <td>1</td>\n",
       "    </tr>\n",
       "    <tr>\n",
       "      <th>9</th>\n",
       "      <td>https://www.huffingtonpost.comhttp://pubx.co/6...</td>\n",
       "      <td>lots of parents know this scenario</td>\n",
       "      <td>0</td>\n",
       "    </tr>\n",
       "  </tbody>\n",
       "</table>\n",
       "</div>"
      ],
      "text/plain": [
       "                                        article_link  \\\n",
       "0  https://www.theonion.com/thirtysomething-scien...   \n",
       "1  https://www.huffingtonpost.com/entry/donna-edw...   \n",
       "2  https://www.huffingtonpost.com/entry/eat-your-...   \n",
       "3  https://local.theonion.com/inclement-weather-p...   \n",
       "4  https://www.theonion.com/mother-comes-pretty-c...   \n",
       "5  https://www.huffingtonpost.com/entry/my-white-...   \n",
       "6  https://www.huffingtonpost.com/entry/5-ways-to...   \n",
       "7  https://www.theonion.com/richard-bransons-glob...   \n",
       "8  https://politics.theonion.com/shadow-governmen...   \n",
       "9  https://www.huffingtonpost.comhttp://pubx.co/6...   \n",
       "\n",
       "                                            headline  is_sarcastic  \n",
       "0  thirtysomething scientists unveil doomsday clo...             1  \n",
       "1  dem rep. totally nails why congress is falling...             0  \n",
       "2  eat your veggies: 9 deliciously different recipes             0  \n",
       "3  inclement weather prevents liar from getting t...             1  \n",
       "4  mother comes pretty close to using word 'strea...             1  \n",
       "5                               my white inheritance             0  \n",
       "6         5 ways to file your taxes with less stress             0  \n",
       "7  richard branson's global-warming donation near...             1  \n",
       "8  shadow government getting too large to meet in...             1  \n",
       "9                 lots of parents know this scenario             0  "
      ]
     },
     "execution_count": 15,
     "metadata": {},
     "output_type": "execute_result"
    }
   ],
   "source": [
    "data.head(10)"
   ]
  },
  {
   "cell_type": "code",
   "execution_count": 17,
   "metadata": {},
   "outputs": [],
   "source": [
    "articleLinks = data[\"article_link\"]\n",
    "headLines = data[\"headline\"]\n",
    "labels = data[\"is_sarcastic\"]"
   ]
  },
  {
   "cell_type": "code",
   "execution_count": 18,
   "metadata": {},
   "outputs": [
    {
     "data": {
      "text/plain": [
       "28619"
      ]
     },
     "execution_count": 18,
     "metadata": {},
     "output_type": "execute_result"
    }
   ],
   "source": [
    "len(articleLinks)"
   ]
  },
  {
   "cell_type": "code",
   "execution_count": 29,
   "metadata": {},
   "outputs": [],
   "source": [
    "trainingSize = 20000\n",
    "oov = \"<oov>\"\n",
    "vocabSize = 10000\n",
    "embeddingDim = 16 \n",
    "trunc = 'post'\n",
    "padType = 'post'\n",
    "maxLength = 32\n",
    "\n",
    "trainLines = headLines[0:trainingSize]\n",
    "trainLabels = labels[0:trainingSize]\n",
    "\n",
    "testLines = headLines[trainingSize:]\n",
    "testLabels = labels[trainingSize:]"
   ]
  },
  {
   "cell_type": "code",
   "execution_count": 33,
   "metadata": {},
   "outputs": [],
   "source": [
    "tokenizer = Tokenizer( num_words = vocabSize , oov_token = oov )\n",
    "tokenizer.fit_on_texts( trainLines )\n",
    "word_index = tokenizer.word_index\n",
    "\n",
    "trainSequences = tokenizer.texts_to_sequences(trainLines)\n",
    "trainPadding = pad_sequences(trainSequences,maxlen = maxLength , truncating = trunc , padding= padType)\n",
    "\n",
    "testSequences = tokenizer.texts_to_sequences(testLines)\n",
    "testPadding = pad_sequences(testSequences,maxlen = maxLength , truncating = trunc , padding = padType)"
   ]
  },
  {
   "cell_type": "code",
   "execution_count": 44,
   "metadata": {},
   "outputs": [],
   "source": [
    "model = keras.Sequential([\n",
    "    keras.layers.Embedding(vocabSize , embeddingDim , input_length = maxLength),\n",
    "    keras.layers.GlobalAveragePooling1D(),\n",
    "    keras.layers.Dense(24,activation = 'relu'),\n",
    "    keras.layers.Dense(1,activation = 'sigmoid')    \n",
    "])\n",
    "\n",
    "model.compile( optimizer  = 'adam' , loss = 'binary_crossentropy' , metrics = ['accuracy'])"
   ]
  },
  {
   "cell_type": "code",
   "execution_count": 45,
   "metadata": {},
   "outputs": [
    {
     "name": "stdout",
     "output_type": "stream",
     "text": [
      "Model: \"sequential_4\"\n",
      "_________________________________________________________________\n",
      "Layer (type)                 Output Shape              Param #   \n",
      "=================================================================\n",
      "embedding_4 (Embedding)      (None, 32, 16)            160000    \n",
      "_________________________________________________________________\n",
      "global_average_pooling1d_4 ( (None, 16)                0         \n",
      "_________________________________________________________________\n",
      "dense_8 (Dense)              (None, 24)                408       \n",
      "_________________________________________________________________\n",
      "dense_9 (Dense)              (None, 1)                 25        \n",
      "=================================================================\n",
      "Total params: 160,433\n",
      "Trainable params: 160,433\n",
      "Non-trainable params: 0\n",
      "_________________________________________________________________\n"
     ]
    }
   ],
   "source": [
    "model.summary()"
   ]
  },
  {
   "cell_type": "code",
   "execution_count": 46,
   "metadata": {},
   "outputs": [
    {
     "name": "stdout",
     "output_type": "stream",
     "text": [
      "Epoch 1/20\n",
      "625/625 - 1s - loss: 0.5597 - accuracy: 0.7255 - val_loss: 0.3864 - val_accuracy: 0.8386\n",
      "Epoch 2/20\n",
      "625/625 - 1s - loss: 0.3145 - accuracy: 0.8706 - val_loss: 0.3306 - val_accuracy: 0.8552\n",
      "Epoch 3/20\n",
      "625/625 - 1s - loss: 0.2389 - accuracy: 0.9067 - val_loss: 0.3312 - val_accuracy: 0.8533\n",
      "Epoch 4/20\n",
      "625/625 - 1s - loss: 0.1939 - accuracy: 0.9278 - val_loss: 0.3520 - val_accuracy: 0.8507\n",
      "Epoch 5/20\n",
      "625/625 - 1s - loss: 0.1627 - accuracy: 0.9404 - val_loss: 0.3774 - val_accuracy: 0.8399\n",
      "Epoch 6/20\n",
      "625/625 - 1s - loss: 0.1384 - accuracy: 0.9517 - val_loss: 0.4018 - val_accuracy: 0.8419\n",
      "Epoch 7/20\n",
      "625/625 - 1s - loss: 0.1199 - accuracy: 0.9578 - val_loss: 0.4355 - val_accuracy: 0.8343\n",
      "Epoch 8/20\n",
      "625/625 - 1s - loss: 0.1039 - accuracy: 0.9640 - val_loss: 0.4748 - val_accuracy: 0.8303\n",
      "Epoch 9/20\n",
      "625/625 - 1s - loss: 0.0909 - accuracy: 0.9700 - val_loss: 0.5219 - val_accuracy: 0.8269\n",
      "Epoch 10/20\n",
      "625/625 - 1s - loss: 0.0806 - accuracy: 0.9736 - val_loss: 0.5680 - val_accuracy: 0.8225\n",
      "Epoch 11/20\n",
      "625/625 - 1s - loss: 0.0712 - accuracy: 0.9773 - val_loss: 0.6090 - val_accuracy: 0.8233\n",
      "Epoch 12/20\n",
      "625/625 - 1s - loss: 0.0609 - accuracy: 0.9809 - val_loss: 0.6668 - val_accuracy: 0.8190\n",
      "Epoch 13/20\n",
      "625/625 - 1s - loss: 0.0546 - accuracy: 0.9837 - val_loss: 0.7139 - val_accuracy: 0.8166\n",
      "Epoch 14/20\n",
      "625/625 - 1s - loss: 0.0478 - accuracy: 0.9855 - val_loss: 0.7826 - val_accuracy: 0.8122\n",
      "Epoch 15/20\n",
      "625/625 - 1s - loss: 0.0422 - accuracy: 0.9883 - val_loss: 0.8215 - val_accuracy: 0.8123\n",
      "Epoch 16/20\n",
      "625/625 - 1s - loss: 0.0371 - accuracy: 0.9901 - val_loss: 0.8717 - val_accuracy: 0.8115\n",
      "Epoch 17/20\n",
      "625/625 - 1s - loss: 0.0320 - accuracy: 0.9923 - val_loss: 0.9375 - val_accuracy: 0.8117\n",
      "Epoch 18/20\n",
      "625/625 - 1s - loss: 0.0301 - accuracy: 0.9919 - val_loss: 0.9676 - val_accuracy: 0.8084\n",
      "Epoch 19/20\n",
      "625/625 - 1s - loss: 0.0263 - accuracy: 0.9934 - val_loss: 1.0440 - val_accuracy: 0.8062\n",
      "Epoch 20/20\n",
      "625/625 - 1s - loss: 0.0235 - accuracy: 0.9943 - val_loss: 1.0990 - val_accuracy: 0.8033\n"
     ]
    }
   ],
   "source": [
    "numEpochs = 20\n",
    "history = model.fit( trainPadding ,trainLabels , epochs = 20 , validation_data = (testPadding,testLabels),verbose = 2)"
   ]
  },
  {
   "cell_type": "code",
   "execution_count": 54,
   "metadata": {},
   "outputs": [],
   "source": [
    "def plot( history , parameter):\n",
    "    plt.plot(history.history[parameter])\n",
    "    plt.plot(history.history[\"val_\"+parameter])\n",
    "    plt.xlabel(\"Epochs\")\n",
    "    plt.ylabel(parameter)\n",
    "    plt.legend([parameter,\"val_\"+parameter])\n",
    "    plt.show()\n",
    "    "
   ]
  },
  {
   "cell_type": "code",
   "execution_count": 55,
   "metadata": {},
   "outputs": [
    {
     "data": {
      "image/png": "[encoded data removed]",
      "text/plain": [
       "<Figure size 432x288 with 1 Axes>"
      ]
     },
     "metadata": {
      "needs_background": "light"
     },
     "output_type": "display_data"
    },
    {
     "data": {
      "image/png": "[encoded data removed]",
      "text/plain": [
       "<Figure size 432x288 with 1 Axes>"
      ]
     },
     "metadata": {
      "needs_background": "light"
     },
     "output_type": "display_data"
    }
   ],
   "source": [
    "plot(history,\"accuracy\")\n",
    "plot(history,\"loss\")"
   ]
  },
  {
   "cell_type": "code",
   "execution_count": null,
   "metadata": {},
   "outputs": [],
   "source": []
  }
 ],
 "metadata": {
  "kernelspec": {
   "display_name": "Python 3",
   "language": "python",
   "name": "python3"
  },
  "language_info": {
   "codemirror_mode": {
    "name": "ipython",
    "version": 3
   },
   "file_extension": ".py",
   "mimetype": "text/x-python",
   "name": "python",
   "nbconvert_exporter": "python",
   "pygments_lexer": "ipython3",
   "version": "3.7.3"
  }
 },
 "nbformat": 4,
 "nbformat_minor": 2
}
